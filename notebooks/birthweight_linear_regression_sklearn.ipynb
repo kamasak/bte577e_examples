{
 "cells": [
  {
   "cell_type": "markdown",
   "metadata": {},
   "source": [
    "## Explatory Data Analysis\n",
    "\n"
   ]
  },
  {
   "cell_type": "markdown",
   "metadata": {},
   "source": [
    "#### Birthweight data\n",
    "\n",
    "Variables in the data are as follows:\n",
    "\n",
    "\n",
    "|     Name                 |     Variable                                           |     Data type    |\n",
    "|--------------------------|--------------------------------------------------------|------------------|\n",
    "|     ID                   |     Baby number                                        |                  |\n",
    "|      length              |     Length of baby (cm)                                |     Scale        |\n",
    "|      Birthweight         |     Weight of baby (kg)                                |     Scale        |\n",
    "|      headcirumference    |     Head Circumference                                 |     Scale        |\n",
    "|      Gestation           |     Gestation (weeks)                                  |     Scale        |\n",
    "|      smoker              |     Mother smokes 1 = smoker 0 =   non-smoker          |      Binary      |\n",
    "|      motherage           |     Maternal age                                       |     Scale        |\n",
    "|      mnocig              |     Number of cigarettes smoked per day   by mother    |     Scale        |\n",
    "|      mheight             |     Mothers height (cm)                                |      Scale       |\n",
    "|      mppwt               |     Mothers pre-pregnancy weight (kg)                  |      Scale       |\n",
    "|      fage                |     Father's age                                       |      Scale       |\n",
    "|     fedyrs               |     Father’s years in education                        |     Scale        |\n",
    "|      fnocig              |     Number of cigarettes smoked per day   by father    |     Scale        |\n",
    "|      fheight             |     Father's height (cm)                               |      Scale       |\n",
    "|      lowbwt              |     Low birth weight, 0 = No and 1 = yes               |      Binary      |\n",
    "|     mage35               |     Mother over 35, 0 = No and 1 = yes                 |     Binary       |\n",
    "\n",
    " \n",
    "Birthweight is the dependent variable. Lets first investigate this variable."
   ]
  },
  {
   "cell_type": "code",
   "execution_count": 1,
   "metadata": {},
   "outputs": [
    {
     "data": {
      "text/html": [
       "<div>\n",
       "<style scoped>\n",
       "    .dataframe tbody tr th:only-of-type {\n",
       "        vertical-align: middle;\n",
       "    }\n",
       "\n",
       "    .dataframe tbody tr th {\n",
       "        vertical-align: top;\n",
       "    }\n",
       "\n",
       "    .dataframe thead th {\n",
       "        text-align: right;\n",
       "    }\n",
       "</style>\n",
       "<table border=\"1\" class=\"dataframe\">\n",
       "  <thead>\n",
       "    <tr style=\"text-align: right;\">\n",
       "      <th></th>\n",
       "      <th>ID</th>\n",
       "      <th>Length</th>\n",
       "      <th>Birthweight</th>\n",
       "      <th>Headcirc</th>\n",
       "      <th>Gestation</th>\n",
       "      <th>smoker</th>\n",
       "      <th>mage</th>\n",
       "      <th>mnocig</th>\n",
       "      <th>mheight</th>\n",
       "      <th>mppwt</th>\n",
       "      <th>fage</th>\n",
       "      <th>fedyrs</th>\n",
       "      <th>fnocig</th>\n",
       "      <th>fheight</th>\n",
       "      <th>lowbwt</th>\n",
       "      <th>mage35</th>\n",
       "    </tr>\n",
       "  </thead>\n",
       "  <tbody>\n",
       "    <tr>\n",
       "      <th>0</th>\n",
       "      <td>1360</td>\n",
       "      <td>56</td>\n",
       "      <td>4.55</td>\n",
       "      <td>34</td>\n",
       "      <td>44</td>\n",
       "      <td>0</td>\n",
       "      <td>20</td>\n",
       "      <td>0</td>\n",
       "      <td>162</td>\n",
       "      <td>57</td>\n",
       "      <td>23</td>\n",
       "      <td>10</td>\n",
       "      <td>35</td>\n",
       "      <td>179</td>\n",
       "      <td>0</td>\n",
       "      <td>0</td>\n",
       "    </tr>\n",
       "    <tr>\n",
       "      <th>1</th>\n",
       "      <td>1016</td>\n",
       "      <td>53</td>\n",
       "      <td>4.32</td>\n",
       "      <td>36</td>\n",
       "      <td>40</td>\n",
       "      <td>0</td>\n",
       "      <td>19</td>\n",
       "      <td>0</td>\n",
       "      <td>171</td>\n",
       "      <td>62</td>\n",
       "      <td>19</td>\n",
       "      <td>12</td>\n",
       "      <td>0</td>\n",
       "      <td>183</td>\n",
       "      <td>0</td>\n",
       "      <td>0</td>\n",
       "    </tr>\n",
       "    <tr>\n",
       "      <th>2</th>\n",
       "      <td>462</td>\n",
       "      <td>58</td>\n",
       "      <td>4.10</td>\n",
       "      <td>39</td>\n",
       "      <td>41</td>\n",
       "      <td>0</td>\n",
       "      <td>35</td>\n",
       "      <td>0</td>\n",
       "      <td>172</td>\n",
       "      <td>58</td>\n",
       "      <td>31</td>\n",
       "      <td>16</td>\n",
       "      <td>25</td>\n",
       "      <td>185</td>\n",
       "      <td>0</td>\n",
       "      <td>1</td>\n",
       "    </tr>\n",
       "    <tr>\n",
       "      <th>3</th>\n",
       "      <td>1187</td>\n",
       "      <td>53</td>\n",
       "      <td>4.07</td>\n",
       "      <td>38</td>\n",
       "      <td>44</td>\n",
       "      <td>0</td>\n",
       "      <td>20</td>\n",
       "      <td>0</td>\n",
       "      <td>174</td>\n",
       "      <td>68</td>\n",
       "      <td>26</td>\n",
       "      <td>14</td>\n",
       "      <td>25</td>\n",
       "      <td>189</td>\n",
       "      <td>0</td>\n",
       "      <td>0</td>\n",
       "    </tr>\n",
       "    <tr>\n",
       "      <th>4</th>\n",
       "      <td>553</td>\n",
       "      <td>54</td>\n",
       "      <td>3.94</td>\n",
       "      <td>37</td>\n",
       "      <td>42</td>\n",
       "      <td>0</td>\n",
       "      <td>24</td>\n",
       "      <td>0</td>\n",
       "      <td>175</td>\n",
       "      <td>66</td>\n",
       "      <td>30</td>\n",
       "      <td>12</td>\n",
       "      <td>0</td>\n",
       "      <td>184</td>\n",
       "      <td>0</td>\n",
       "      <td>0</td>\n",
       "    </tr>\n",
       "  </tbody>\n",
       "</table>\n",
       "</div>"
      ],
      "text/plain": [
       "     ID  Length  Birthweight  Headcirc  Gestation  smoker  mage  mnocig  \\\n",
       "0  1360      56         4.55        34         44       0    20       0   \n",
       "1  1016      53         4.32        36         40       0    19       0   \n",
       "2   462      58         4.10        39         41       0    35       0   \n",
       "3  1187      53         4.07        38         44       0    20       0   \n",
       "4   553      54         3.94        37         42       0    24       0   \n",
       "\n",
       "   mheight  mppwt  fage  fedyrs  fnocig  fheight  lowbwt  mage35  \n",
       "0      162     57    23      10      35      179       0       0  \n",
       "1      171     62    19      12       0      183       0       0  \n",
       "2      172     58    31      16      25      185       0       1  \n",
       "3      174     68    26      14      25      189       0       0  \n",
       "4      175     66    30      12       0      184       0       0  "
      ]
     },
     "execution_count": 1,
     "metadata": {},
     "output_type": "execute_result"
    }
   ],
   "source": [
    "import pandas as pd\n",
    "import matplotlib.pyplot as plt\n",
    "import numpy as np\n",
    "\n",
    "df = pd.read_csv('../data/Birthweight_reduced_kg_R.csv')\n",
    "df.head()"
   ]
  },
  {
   "cell_type": "code",
   "execution_count": 15,
   "metadata": {},
   "outputs": [
    {
     "data": {
      "text/html": [
       "<div>\n",
       "<style scoped>\n",
       "    .dataframe tbody tr th:only-of-type {\n",
       "        vertical-align: middle;\n",
       "    }\n",
       "\n",
       "    .dataframe tbody tr th {\n",
       "        vertical-align: top;\n",
       "    }\n",
       "\n",
       "    .dataframe thead th {\n",
       "        text-align: right;\n",
       "    }\n",
       "</style>\n",
       "<table border=\"1\" class=\"dataframe\">\n",
       "  <thead>\n",
       "    <tr style=\"text-align: right;\">\n",
       "      <th></th>\n",
       "      <th>Length</th>\n",
       "      <th>Birthweight</th>\n",
       "      <th>Headcirc</th>\n",
       "      <th>mage</th>\n",
       "      <th>fage</th>\n",
       "      <th>mheight</th>\n",
       "      <th>fheight</th>\n",
       "    </tr>\n",
       "  </thead>\n",
       "  <tbody>\n",
       "    <tr>\n",
       "      <th>Length</th>\n",
       "      <td>1.000000</td>\n",
       "      <td>0.726833</td>\n",
       "      <td>0.563172</td>\n",
       "      <td>0.075268</td>\n",
       "      <td>0.137184</td>\n",
       "      <td>0.484992</td>\n",
       "      <td>0.208358</td>\n",
       "    </tr>\n",
       "    <tr>\n",
       "      <th>Birthweight</th>\n",
       "      <td>0.726833</td>\n",
       "      <td>1.000000</td>\n",
       "      <td>0.684616</td>\n",
       "      <td>0.000173</td>\n",
       "      <td>0.175710</td>\n",
       "      <td>0.363055</td>\n",
       "      <td>0.031022</td>\n",
       "    </tr>\n",
       "    <tr>\n",
       "      <th>Headcirc</th>\n",
       "      <td>0.563172</td>\n",
       "      <td>0.684616</td>\n",
       "      <td>1.000000</td>\n",
       "      <td>0.145842</td>\n",
       "      <td>0.301151</td>\n",
       "      <td>0.337047</td>\n",
       "      <td>0.041509</td>\n",
       "    </tr>\n",
       "    <tr>\n",
       "      <th>mage</th>\n",
       "      <td>0.075268</td>\n",
       "      <td>0.000173</td>\n",
       "      <td>0.145842</td>\n",
       "      <td>1.000000</td>\n",
       "      <td>0.806584</td>\n",
       "      <td>0.059956</td>\n",
       "      <td>-0.199547</td>\n",
       "    </tr>\n",
       "    <tr>\n",
       "      <th>fage</th>\n",
       "      <td>0.137184</td>\n",
       "      <td>0.175710</td>\n",
       "      <td>0.301151</td>\n",
       "      <td>0.806584</td>\n",
       "      <td>1.000000</td>\n",
       "      <td>-0.079870</td>\n",
       "      <td>-0.269377</td>\n",
       "    </tr>\n",
       "    <tr>\n",
       "      <th>mheight</th>\n",
       "      <td>0.484992</td>\n",
       "      <td>0.363055</td>\n",
       "      <td>0.337047</td>\n",
       "      <td>0.059956</td>\n",
       "      <td>-0.079870</td>\n",
       "      <td>1.000000</td>\n",
       "      <td>0.274338</td>\n",
       "    </tr>\n",
       "    <tr>\n",
       "      <th>fheight</th>\n",
       "      <td>0.208358</td>\n",
       "      <td>0.031022</td>\n",
       "      <td>0.041509</td>\n",
       "      <td>-0.199547</td>\n",
       "      <td>-0.269377</td>\n",
       "      <td>0.274338</td>\n",
       "      <td>1.000000</td>\n",
       "    </tr>\n",
       "  </tbody>\n",
       "</table>\n",
       "</div>"
      ],
      "text/plain": [
       "               Length  Birthweight  Headcirc      mage      fage   mheight  \\\n",
       "Length       1.000000     0.726833  0.563172  0.075268  0.137184  0.484992   \n",
       "Birthweight  0.726833     1.000000  0.684616  0.000173  0.175710  0.363055   \n",
       "Headcirc     0.563172     0.684616  1.000000  0.145842  0.301151  0.337047   \n",
       "mage         0.075268     0.000173  0.145842  1.000000  0.806584  0.059956   \n",
       "fage         0.137184     0.175710  0.301151  0.806584  1.000000 -0.079870   \n",
       "mheight      0.484992     0.363055  0.337047  0.059956 -0.079870  1.000000   \n",
       "fheight      0.208358     0.031022  0.041509 -0.199547 -0.269377  0.274338   \n",
       "\n",
       "              fheight  \n",
       "Length       0.208358  \n",
       "Birthweight  0.031022  \n",
       "Headcirc     0.041509  \n",
       "mage        -0.199547  \n",
       "fage        -0.269377  \n",
       "mheight      0.274338  \n",
       "fheight      1.000000  "
      ]
     },
     "execution_count": 15,
     "metadata": {},
     "output_type": "execute_result"
    }
   ],
   "source": [
    "data = df[['Length','Birthweight','Headcirc','mage', 'fage', 'mheight', 'fheight']]\n",
    "pearson_corr = data.corr()\n",
    "\n",
    "pearson_corr"
   ]
  },
  {
   "attachments": {},
   "cell_type": "markdown",
   "metadata": {},
   "source": [
    "Now, lets show this correlation on a heatmap for easier interpretation."
   ]
  },
  {
   "cell_type": "code",
   "execution_count": 24,
   "metadata": {},
   "outputs": [
    {
     "name": "stderr",
     "output_type": "stream",
     "text": [
      "C:\\Users\\kamas\\AppData\\Local\\Temp\\ipykernel_10556\\1407800231.py:10: UserWarning: FixedFormatter should only be used together with FixedLocator\n",
      "  ax.set_xticklabels(data.columns, rotation=65, fontsize=15)\n",
      "C:\\Users\\kamas\\AppData\\Local\\Temp\\ipykernel_10556\\1407800231.py:11: UserWarning: FixedFormatter should only be used together with FixedLocator\n",
      "  ax.set_yticklabels(data.columns, rotation=0, fontsize=15)\n"
     ]
    },
    {
     "data": {
      "image/png": "[encoded data removed]",
      "text/plain": [
       "<Figure size 576x576 with 2 Axes>"
      ]
     },
     "metadata": {
      "needs_background": "light"
     },
     "output_type": "display_data"
    }
   ],
   "source": [
    "import matplotlib.pyplot as plt\n",
    "\n",
    "fig, ax = plt.subplots(figsize=(8,8))\n",
    "im = ax.imshow(pearson_corr, interpolation='nearest')\n",
    "fig.colorbar(im, orientation='vertical', fraction = 0.05)\n",
    "\n",
    "# there is a problem here!!!!\n",
    "# The tick labels do not start from length\n",
    "# Show all ticks and label them with the dataframe column name\n",
    "ax.set_xticklabels(data.columns, rotation=65, fontsize=15)\n",
    "ax.set_yticklabels(data.columns, rotation=0, fontsize=15)\n",
    "\n",
    "# Loop over data dimensions and create text annotations\n",
    "for i in range(len(data.columns)):\n",
    "    for j in range(len(data.columns)):\n",
    "        text = ax.text(j, i, round(pearson_corr.to_numpy()[i, j], 3),\n",
    "                       ha=\"center\", va=\"center\", color=\"black\")\n",
    "\n",
    "plt.show()"
   ]
  },
  {
   "attachments": {},
   "cell_type": "markdown",
   "metadata": {},
   "source": [
    "Now, lets build a linear regression model that correlates birthweight with mothers age and fathers age"
   ]
  },
  {
   "cell_type": "code",
   "execution_count": 28,
   "metadata": {},
   "outputs": [
    {
     "name": "stdout",
     "output_type": "stream",
     "text": [
      "[-0.04317422  0.04420732]\n"
     ]
    }
   ],
   "source": [
    "from sklearn import linear_model \n",
    "\n",
    "X = data[['mage', 'fage']]\n",
    "y = data['Birthweight'] \n",
    "\n",
    "reg_model = linear_model.LinearRegression()\n",
    "reg_model.fit(X, y) \n",
    "\n",
    "print(reg_model.coef_)\n"
   ]
  },
  {
   "cell_type": "markdown",
   "metadata": {},
   "source": []
  },
  {
   "cell_type": "code",
   "execution_count": 52,
   "metadata": {},
   "outputs": [
    {
     "name": "stdout",
     "output_type": "stream",
     "text": [
      "   Birthweight  mage  fage\n",
      "0         4.55    20    23\n",
      "Real: 4.55  Predicted: 3.29\n"
     ]
    }
   ],
   "source": [
    "d = df[df.ID==1360]\n",
    "\n",
    "print(d[['Birthweight', 'mage', 'fage']])\n",
    "\n",
    "pred = reg_model.predict(d[['mage', 'fage']])\n",
    "\n",
    "print(f\"Real: {d.to_numpy()[0, 2]}  Predicted: {pred[0]:.2f}\")\n"
   ]
  },
  {
   "cell_type": "markdown",
   "metadata": {},
   "source": []
  },
  {
   "cell_type": "code",
   "execution_count": 55,
   "metadata": {},
   "outputs": [
    {
     "name": "stdout",
     "output_type": "stream",
     "text": [
      "[ 0.03559835 -0.00641771]\n",
      "   Birthweight  mheight  fheight\n",
      "0         4.55      162      179\n",
      "Real: 4.55  Predicted: 3.24\n"
     ]
    }
   ],
   "source": [
    "from sklearn import linear_model \n",
    "\n",
    "X = data[['mheight', 'fheight']]\n",
    "y = data['Birthweight'] \n",
    "\n",
    "reg_model2 = linear_model.LinearRegression()\n",
    "reg_model2.fit(X, y) \n",
    "\n",
    "print(reg_model2.coef_)\n",
    "\n",
    "d = df[df.ID==1360]\n",
    "\n",
    "print(d[['Birthweight', 'mheight', 'fheight']])\n",
    "\n",
    "pred = reg_model2.predict(d[['mheight', 'fheight']])\n",
    "\n",
    "print(f\"Real: {d.to_numpy()[0, 2]}  Predicted: {pred[0]:.2f}\")"
   ]
  }
 ],
 "metadata": {
  "kernelspec": {
   "display_name": "Python 3",
   "language": "python",
   "name": "python3"
  },
  "language_info": {
   "codemirror_mode": {
    "name": "ipython",
    "version": 3
   },
   "file_extension": ".py",
   "mimetype": "text/x-python",
   "name": "python",
   "nbconvert_exporter": "python",
   "pygments_lexer": "ipython3",
   "version": "3.10.10"
  },
  "vscode": {
   "interpreter": {
    "hash": "e08f2dad8d3866ea20ca3a8704fff1d589f64168b3494e22cb9118e3750f0a58"
   }
  }
 },
 "nbformat": 4,
 "nbformat_minor": 2
}
