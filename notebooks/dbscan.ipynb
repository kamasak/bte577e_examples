{
 "cells": [
  {
   "cell_type": "markdown",
   "metadata": {},
   "source": [
    "## Demo of DBScan outlier detection"
   ]
  },
  {
   "cell_type": "code",
   "execution_count": 2,
   "metadata": {},
   "outputs": [
    {
     "data": {
      "text/html": [
       "<div>\n",
       "<style scoped>\n",
       "    .dataframe tbody tr th:only-of-type {\n",
       "        vertical-align: middle;\n",
       "    }\n",
       "\n",
       "    .dataframe tbody tr th {\n",
       "        vertical-align: top;\n",
       "    }\n",
       "\n",
       "    .dataframe thead th {\n",
       "        text-align: right;\n",
       "    }\n",
       "</style>\n",
       "<table border=\"1\" class=\"dataframe\">\n",
       "  <thead>\n",
       "    <tr style=\"text-align: right;\">\n",
       "      <th></th>\n",
       "      <th>x_coord</th>\n",
       "      <th>y_coord</th>\n",
       "    </tr>\n",
       "  </thead>\n",
       "  <tbody>\n",
       "    <tr>\n",
       "      <th>0</th>\n",
       "      <td>-5.577854</td>\n",
       "      <td>5.872988</td>\n",
       "    </tr>\n",
       "    <tr>\n",
       "      <th>1</th>\n",
       "      <td>1.627832</td>\n",
       "      <td>4.178069</td>\n",
       "    </tr>\n",
       "    <tr>\n",
       "      <th>2</th>\n",
       "      <td>-6.371844</td>\n",
       "      <td>4.419223</td>\n",
       "    </tr>\n",
       "    <tr>\n",
       "      <th>3</th>\n",
       "      <td>1.750055</td>\n",
       "      <td>5.445829</td>\n",
       "    </tr>\n",
       "    <tr>\n",
       "      <th>4</th>\n",
       "      <td>6.550104</td>\n",
       "      <td>-7.912339</td>\n",
       "    </tr>\n",
       "  </tbody>\n",
       "</table>\n",
       "</div>"
      ],
      "text/plain": [
       "    x_coord   y_coord\n",
       "0 -5.577854  5.872988\n",
       "1  1.627832  4.178069\n",
       "2 -6.371844  4.419223\n",
       "3  1.750055  5.445829\n",
       "4  6.550104 -7.912339"
      ]
     },
     "execution_count": 2,
     "metadata": {},
     "output_type": "execute_result"
    }
   ],
   "source": [
    "import pandas as pd \n",
    "\n",
    "data = pd.read_csv('../data/outlier.csv')\n",
    "data.head()"
   ]
  },
  {
   "cell_type": "markdown",
   "metadata": {},
   "source": [
    "DBScan algoritm takes 3 parameters:\n",
    "1. minPts - number of neighbours for being a core point\n",
    "2. epsilon - radius of circle that defines neighbourhood\n",
    "3. distance metric - to measure distance between points\n",
    "\n",
    "\n",
    "\n"
   ]
  },
  {
   "cell_type": "code",
   "execution_count": 24,
   "metadata": {},
   "outputs": [
    {
     "data": {
      "text/plain": [
       "<matplotlib.collections.PathCollection at 0x16fb201ce20>"
      ]
     },
     "execution_count": 24,
     "metadata": {},
     "output_type": "execute_result"
    },
    {
     "data": {
      "image/png": "[encoded data removed]",
      "text/plain": [
       "<Figure size 432x288 with 1 Axes>"
      ]
     },
     "metadata": {
      "needs_background": "light"
     },
     "output_type": "display_data"
    }
   ],
   "source": [
    "import numpy as np \n",
    "import matplotlib.pyplot as plt\n",
    "\n",
    "def dbscan(data, minPts, eps, distance='euclid'):\n",
    "    \n",
    "    N = data.shape[0]\n",
    "    # label 0->outlier 1->core 2->core-connected\n",
    "    labels = np.zeros(N)\n",
    "    dist = np.zeros((N,N))\n",
    "\n",
    "    for i in range(N):\n",
    "        for j in range(N):\n",
    "            point1 = data.iloc[i]\n",
    "            point2 = data.iloc[j] \n",
    "            \n",
    "            if distance == 'euclid':\n",
    "                if i == j:\n",
    "                    dist[i,j] = 0\n",
    "                else:\n",
    "                    dist[i,j] = np.sum((point1 - point2)**2)\n",
    "            else:\n",
    "                raise ValueError(f'Distance metric {distance} is not defined!')\n",
    "\n",
    "    # first label core points first\n",
    "    for i in range(N):\n",
    "        idist = dist[i,:]\n",
    "        nneigh = np.sum(idist<=eps) \n",
    "        if nneigh>=minPts:\n",
    "            labels[i] = 1\n",
    "        \n",
    "    \n",
    "    # then find core-connected points\n",
    "    for i in range(N):\n",
    "        if labels[i] == 1:\n",
    "            continue\n",
    "\n",
    "        idist = dist[i,:]\n",
    "        ind = idist<=eps \n",
    "        for j,isNeigh in enumerate(ind):\n",
    "            if isNeigh and labels[j] == 1:\n",
    "                labels[i] = 2\n",
    "    \n",
    "    return labels\n",
    "    \n",
    "\n",
    "labels = dbscan(data, 8, 2)\n",
    "label_names = ['outlier','core','core-connected']\n",
    "for i in range(data.shape[0]):\n",
    "    print(f\"({data['x_ccord'].iloc[i]},{{data['x_ccord'].iloc[i]}})\")\n",
    "    \n",
    "# now visualize\n",
    "plt.scatter(data['x_coord'][labels==0],data['y_coord'][labels==0], color='red')\n",
    "plt.scatter(data['x_coord'][labels==1],data['y_coord'][labels==1], color='green')\n",
    "plt.scatter(data['x_coord'][labels==2],data['y_coord'][labels==2], color='blue')\n",
    "\n"
   ]
  }
 ],
 "metadata": {
  "interpreter": {
   "hash": "e26ee7632efa79d1cdcb4a1edd701c7fe80726a566825d0095c4a53508317fe8"
  },
  "kernelspec": {
   "display_name": "Python 3.10.4 64-bit (windows store)",
   "language": "python",
   "name": "python3"
  },
  "language_info": {
   "codemirror_mode": {
    "name": "ipython",
    "version": 3
   },
   "file_extension": ".py",
   "mimetype": "text/x-python",
   "name": "python",
   "nbconvert_exporter": "python",
   "pygments_lexer": "ipython3",
   "version": "3.10.4"
  },
  "orig_nbformat": 4
 },
 "nbformat": 4,
 "nbformat_minor": 2
}
